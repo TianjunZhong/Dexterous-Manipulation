{
 "cells": [
  {
   "cell_type": "code",
   "execution_count": null,
   "metadata": {},
   "outputs": [],
   "source": [
    "import gymnasium as gym\n",
    "import gymnasium_robotics\n",
    "import pickle\n",
    "import numpy as np\n",
    "import torch\n",
    "import torch.nn as nn\n",
    "from torch.utils.data import TensorDataset, DataLoader"
   ]
  },
  {
   "cell_type": "code",
   "execution_count": 3,
   "metadata": {},
   "outputs": [
    {
     "name": "stdout",
     "output_type": "stream",
     "text": [
      "['HandReach-v0', 'HandReach-v2', 'HandManipulateBlockRotateZ-v0', 'HandManipulateBlockRotateZ-v1', 'HandManipulateBlockRotateZ_BooleanTouchSensors-v0', 'HandManipulateBlockRotateZ_BooleanTouchSensors-v1', 'HandManipulateBlockRotateZ_ContinuousTouchSensors-v0', 'HandManipulateBlockRotateZ_ContinuousTouchSensors-v1', 'HandManipulateBlockRotateParallel-v0', 'HandManipulateBlockRotateParallel-v1', 'HandManipulateBlockRotateParallel_BooleanTouchSensors-v0', 'HandManipulateBlockRotateParallel_BooleanTouchSensors-v1', 'HandManipulateBlockRotateParallel_ContinuousTouchSensors-v0', 'HandManipulateBlockRotateParallel_ContinuousTouchSensors-v1', 'HandManipulateBlockRotateXYZ-v0', 'HandManipulateBlockRotateXYZ-v1', 'HandManipulateBlockRotateXYZ_BooleanTouchSensors-v0', 'HandManipulateBlockRotateXYZ_BooleanTouchSensors-v1', 'HandManipulateBlockRotateXYZ_ContinuousTouchSensors-v0', 'HandManipulateBlockRotateXYZ_ContinuousTouchSensors-v1', 'HandManipulateBlockFull-v0', 'HandManipulateBlockFull-v1', 'HandManipulateBlock-v0', 'HandManipulateBlock-v1', 'HandManipulateBlock_BooleanTouchSensors-v0', 'HandManipulateBlock_BooleanTouchSensors-v1', 'HandManipulateBlock_ContinuousTouchSensors-v0', 'HandManipulateBlock_ContinuousTouchSensors-v1', 'HandManipulateEggRotate-v0', 'HandManipulateEggRotate-v1', 'HandManipulateEggRotate_BooleanTouchSensors-v0', 'HandManipulateEggRotate_BooleanTouchSensors-v1', 'HandManipulateEggRotate_ContinuousTouchSensors-v0', 'HandManipulateEggRotate_ContinuousTouchSensors-v1', 'HandManipulateEggFull-v0', 'HandManipulateEggFull-v1', 'HandManipulateEgg-v0', 'HandManipulateEgg-v1', 'HandManipulateEgg_BooleanTouchSensors-v0', 'HandManipulateEgg_BooleanTouchSensors-v1', 'HandManipulateEgg_ContinuousTouchSensors-v0', 'HandManipulateEgg_ContinuousTouchSensors-v1', 'HandManipulatePenRotate-v0', 'HandManipulatePenRotate-v1', 'HandManipulatePenRotate_BooleanTouchSensors-v0', 'HandManipulatePenRotate_BooleanTouchSensors-v1', 'HandManipulatePenRotate_ContinuousTouchSensors-v0', 'HandManipulatePenRotate_ContinuousTouchSensors-v1', 'HandManipulatePenFull-v0', 'HandManipulatePenFull-v1', 'HandManipulatePen-v0', 'HandManipulatePen-v1', 'HandManipulatePen_BooleanTouchSensors-v0', 'HandManipulatePen_BooleanTouchSensors-v1', 'HandManipulatePen_ContinuousTouchSensors-v0', 'HandManipulatePen_ContinuousTouchSensors-v1', 'HandReachDense-v0', 'HandReachDense-v2', 'HandManipulateBlockRotateZDense-v0', 'HandManipulateBlockRotateZDense-v1', 'HandManipulateBlockRotateZ_BooleanTouchSensorsDense-v0', 'HandManipulateBlockRotateZ_BooleanTouchSensorsDense-v1', 'HandManipulateBlockRotateZ_ContinuousTouchSensorsDense-v0', 'HandManipulateBlockRotateZ_ContinuousTouchSensorsDense-v1', 'HandManipulateBlockRotateParallelDense-v0', 'HandManipulateBlockRotateParallelDense-v1', 'HandManipulateBlockRotateParallel_BooleanTouchSensorsDense-v0', 'HandManipulateBlockRotateParallel_BooleanTouchSensorsDense-v1', 'HandManipulateBlockRotateParallel_ContinuousTouchSensorsDense-v0', 'HandManipulateBlockRotateParallel_ContinuousTouchSensorsDense-v1', 'HandManipulateBlockRotateXYZDense-v0', 'HandManipulateBlockRotateXYZDense-v1', 'HandManipulateBlockRotateXYZ_BooleanTouchSensorsDense-v0', 'HandManipulateBlockRotateXYZ_BooleanTouchSensorsDense-v1', 'HandManipulateBlockRotateXYZ_ContinuousTouchSensorsDense-v0', 'HandManipulateBlockRotateXYZ_ContinuousTouchSensorsDense-v1', 'HandManipulateBlockFullDense-v0', 'HandManipulateBlockFullDense-v1', 'HandManipulateBlockDense-v0', 'HandManipulateBlockDense-v1', 'HandManipulateBlock_BooleanTouchSensorsDense-v0', 'HandManipulateBlock_BooleanTouchSensorsDense-v1', 'HandManipulateBlock_ContinuousTouchSensorsDense-v0', 'HandManipulateBlock_ContinuousTouchSensorsDense-v1', 'HandManipulateEggRotateDense-v0', 'HandManipulateEggRotateDense-v1', 'HandManipulateEggRotate_BooleanTouchSensorsDense-v0', 'HandManipulateEggRotate_BooleanTouchSensorsDense-v1', 'HandManipulateEggRotate_ContinuousTouchSensorsDense-v0', 'HandManipulateEggRotate_ContinuousTouchSensorsDense-v1', 'HandManipulateEggFullDense-v0', 'HandManipulateEggFullDense-v1', 'HandManipulateEggDense-v0', 'HandManipulateEggDense-v1', 'HandManipulateEgg_BooleanTouchSensorsDense-v0', 'HandManipulateEgg_BooleanTouchSensorsDense-v1', 'HandManipulateEgg_ContinuousTouchSensorsDense-v0', 'HandManipulateEgg_ContinuousTouchSensorsDense-v1', 'HandManipulatePenRotateDense-v0', 'HandManipulatePenRotateDense-v1', 'HandManipulatePenRotate_BooleanTouchSensorsDense-v0', 'HandManipulatePenRotate_BooleanTouchSensorsDense-v1', 'HandManipulatePenRotate_ContinuousTouchSensorsDense-v0', 'HandManipulatePenRotate_ContinuousTouchSensorsDense-v1', 'HandManipulatePenFullDense-v0', 'HandManipulatePenFullDense-v1', 'HandManipulatePenDense-v0', 'HandManipulatePenDense-v1', 'HandManipulatePen_BooleanTouchSensorsDense-v0', 'HandManipulatePen_BooleanTouchSensorsDense-v1', 'HandManipulatePen_ContinuousTouchSensorsDense-v0', 'HandManipulatePen_ContinuousTouchSensorsDense-v1', 'AdroitHandDoorSparse-v1', 'AdroitHandHammerSparse-v1', 'AdroitHandPenSparse-v1', 'AdroitHandRelocateSparse-v1', 'AdroitHandDoor-v1', 'AdroitHandHammer-v1', 'AdroitHandPen-v1', 'AdroitHandRelocate-v1']\n"
     ]
    }
   ],
   "source": [
    "# available task environments\n",
    "from gymnasium.envs import registry\n",
    "env_ids = [env.id for env in registry.values() if \"Hand\" in env.id]\n",
    "print(env_ids)"
   ]
  },
  {
   "cell_type": "code",
   "execution_count": 4,
   "metadata": {},
   "outputs": [
    {
     "name": "stdout",
     "output_type": "stream",
     "text": [
      "Observation shape: (45,)\n",
      "Action shape: (24,)\n"
     ]
    }
   ],
   "source": [
    "# test if environment works\n",
    "env = gym.make(\"AdroitHandPen-v1\", render_mode=\"human\")\n",
    "obs, _ = env.reset()\n",
    "\n",
    "obs_dim = obs.shape[0]\n",
    "act_dim = env.action_space.shape[0]\n",
    "\n",
    "env.close()\n",
    "\n",
    "print(\"Observation shape:\", obs.shape)\n",
    "print(\"Action shape:\", env.action_space.shape)"
   ]
  },
  {
   "cell_type": "code",
   "execution_count": 5,
   "metadata": {},
   "outputs": [
    {
     "name": "stdout",
     "output_type": "stream",
     "text": [
      "Data loaded: (5000, 45) (5000, 24)\n"
     ]
    }
   ],
   "source": [
    "# import demonstration data\n",
    "with open(\"data/pen-v0_demos.pickle\", \"rb\") as f:\n",
    "    demos = pickle.load(f)\n",
    "\n",
    "obs, acts = [], []\n",
    "for traj in demos:\n",
    "    obs.append(traj['observations'])\n",
    "    acts.append(traj['actions'])\n",
    "\n",
    "X = np.concatenate(obs, axis=0)  # (N, obs_dim)\n",
    "y = np.concatenate(acts, axis=0)  # (N, act_dim)\n",
    "print(\"Data loaded:\", X.shape, y.shape)"
   ]
  },
  {
   "cell_type": "code",
   "execution_count": 7,
   "metadata": {},
   "outputs": [],
   "source": [
    "# vanilla model\n",
    "class BCPolicy(nn.Module):\n",
    "    def __init__(self, obs_dim, act_dim):\n",
    "        super().__init__()\n",
    "        self.net = nn.Sequential(\n",
    "            nn.Linear(obs_dim, 256),\n",
    "            nn.ReLU(),\n",
    "            nn.Linear(256, 256),\n",
    "            nn.ReLU(),\n",
    "            nn.Linear(256, act_dim)\n",
    "        )\n",
    "\n",
    "    def forward(self, x):\n",
    "        return self.net(x)"
   ]
  },
  {
   "cell_type": "code",
   "execution_count": null,
   "metadata": {},
   "outputs": [
    {
     "name": "stdout",
     "output_type": "stream",
     "text": [
      "Epoch 1 - Loss: 17.5146\n",
      "Epoch 2 - Loss: 5.8769\n",
      "Epoch 3 - Loss: 2.5581\n",
      "Epoch 4 - Loss: 1.4469\n",
      "Epoch 5 - Loss: 0.9047\n",
      "Epoch 6 - Loss: 0.5956\n",
      "Epoch 7 - Loss: 0.4141\n",
      "Epoch 8 - Loss: 0.3070\n",
      "Epoch 9 - Loss: 0.2404\n",
      "Epoch 10 - Loss: 0.2012\n",
      "Epoch 11 - Loss: 0.1716\n",
      "Epoch 12 - Loss: 0.1489\n",
      "Epoch 13 - Loss: 0.1316\n",
      "Epoch 14 - Loss: 0.1175\n",
      "Epoch 15 - Loss: 0.1068\n",
      "Epoch 16 - Loss: 0.0960\n",
      "Epoch 17 - Loss: 0.0880\n",
      "Epoch 18 - Loss: 0.0808\n",
      "Epoch 19 - Loss: 0.0754\n",
      "Epoch 20 - Loss: 0.0706\n",
      "Epoch 21 - Loss: 0.0681\n",
      "Epoch 22 - Loss: 0.0642\n",
      "Epoch 23 - Loss: 0.0613\n",
      "Epoch 24 - Loss: 0.0571\n",
      "Epoch 25 - Loss: 0.0548\n",
      "Epoch 26 - Loss: 0.0511\n",
      "Epoch 27 - Loss: 0.0485\n",
      "Epoch 28 - Loss: 0.0476\n",
      "Epoch 29 - Loss: 0.0456\n",
      "Epoch 30 - Loss: 0.0427\n"
     ]
    }
   ],
   "source": [
    "# train\n",
    "device = torch.device('cuda' if torch.cuda.is_available() else 'cpu')\n",
    "\n",
    "dataset = TensorDataset(torch.tensor(X, dtype=torch.float32),\n",
    "                        torch.tensor(y, dtype=torch.float32))\n",
    "loader = DataLoader(dataset, batch_size=256, shuffle=True)\n",
    "\n",
    "model = BCPolicy(X.shape[1], y.shape[1]).to(device)\n",
    "optimizer = torch.optim.Adam(model.parameters(), lr=1e-3)\n",
    "loss_fn = nn.MSELoss()\n",
    "\n",
    "for epoch in range(30):\n",
    "    total_loss = 0\n",
    "    for batch_x, batch_y in loader:\n",
    "        batch_x, batch_y = batch_x.to(device), batch_y.to(device)\n",
    "        pred = model(batch_x)\n",
    "        loss = loss_fn(pred, batch_y)\n",
    "        optimizer.zero_grad()\n",
    "        loss.backward()\n",
    "        optimizer.step()\n",
    "        total_loss += loss.item()\n",
    "    print(f\"Epoch {epoch+1} - Loss: {total_loss:.4f}\")\n"
   ]
  },
  {
   "cell_type": "code",
   "execution_count": null,
   "metadata": {},
   "outputs": [],
   "source": [
    "# save model\n",
    "torch.save(model.state_dict(), \"bc_pen_policy.pth\")"
   ]
  },
  {
   "cell_type": "code",
   "execution_count": 8,
   "metadata": {},
   "outputs": [
    {
     "name": "stdout",
     "output_type": "stream",
     "text": [
      "Success: True\n",
      "Success: False\n",
      "Success: False\n",
      "Success: True\n",
      "Success: True\n",
      "Success: False\n",
      "Success: True\n",
      "Success: False\n",
      "Success: False\n",
      "Success: True\n"
     ]
    }
   ],
   "source": [
    "# evaluation\n",
    "# Load env\n",
    "env = gym.make(\"AdroitHandPen-v1\", render_mode=\"human\")\n",
    "obs, _ = env.reset()\n",
    "obs_dim = obs.shape[0]\n",
    "act_dim = env.action_space.shape[0]\n",
    "\n",
    "# Reload model\n",
    "model = BCPolicy(obs_dim, act_dim)\n",
    "model.load_state_dict(torch.load(\"bc_pen_policy.pth\"))\n",
    "model.eval()\n",
    "\n",
    "for trial in range(10):\n",
    "    done = False\n",
    "    while not done:\n",
    "        obs_tensor = torch.tensor(obs, dtype=torch.float32).unsqueeze(0)\n",
    "        with torch.no_grad():\n",
    "            action = model(obs_tensor).numpy().squeeze()\n",
    "        obs, reward, terminated, truncated, info = env.step(action)\n",
    "        done = terminated or truncated\n",
    "        env.render()\n",
    "    print(f\"Success: {info.get('success', False)}\")\n",
    "\n",
    "    env.reset()\n",
    "env.close() "
   ]
  }
 ],
 "metadata": {
  "kernelspec": {
   "display_name": "robotics",
   "language": "python",
   "name": "python3"
  },
  "language_info": {
   "codemirror_mode": {
    "name": "ipython",
    "version": 3
   },
   "file_extension": ".py",
   "mimetype": "text/x-python",
   "name": "python",
   "nbconvert_exporter": "python",
   "pygments_lexer": "ipython3",
   "version": "3.9.21"
  }
 },
 "nbformat": 4,
 "nbformat_minor": 2
}
